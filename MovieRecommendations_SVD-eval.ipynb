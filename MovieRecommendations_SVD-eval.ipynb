{
 "cells": [
  {
   "cell_type": "code",
   "execution_count": 1,
   "metadata": {},
   "outputs": [],
   "source": [
    "from topn_eval.MovieLens import MovieLens\n",
    "from topn_eval.RecommenderMetrics import RecommenderMetrics\n",
    "from surprise import SVD\n",
    "from surprise import Dataset\n",
    "from surprise import accuracy\n",
    "from surprise.model_selection import cross_validate\n",
    "from surprise.model_selection import train_test_split\n",
    "from surprise.model_selection import LeaveOneOut"
   ]
  },
  {
   "cell_type": "code",
   "execution_count": 2,
   "metadata": {},
   "outputs": [],
   "source": [
    "ml = MovieLens()"
   ]
  },
  {
   "cell_type": "code",
   "execution_count": 3,
   "metadata": {},
   "outputs": [
    {
     "name": "stdout",
     "output_type": "stream",
     "text": [
      "Loading movie ratings...\n"
     ]
    }
   ],
   "source": [
    "print(\"Loading movie ratings...\")\n",
    "data = ml.loadMovieLensLatestSmall()"
   ]
  },
  {
   "cell_type": "code",
   "execution_count": 4,
   "metadata": {},
   "outputs": [],
   "source": [
    "trainSet, testSet = train_test_split(data, test_size=.25, random_state=1)"
   ]
  },
  {
   "cell_type": "code",
   "execution_count": 5,
   "metadata": {},
   "outputs": [
    {
     "data": {
      "text/plain": [
       "<surprise.prediction_algorithms.matrix_factorization.SVD at 0x111a72198>"
      ]
     },
     "execution_count": 5,
     "metadata": {},
     "output_type": "execute_result"
    }
   ],
   "source": [
    "algo = SVD(random_state=10)\n",
    "algo.fit(trainSet)"
   ]
  },
  {
   "cell_type": "code",
   "execution_count": 6,
   "metadata": {},
   "outputs": [],
   "source": [
    "predictions = algo.test(testSet)"
   ]
  },
  {
   "cell_type": "code",
   "execution_count": 7,
   "metadata": {},
   "outputs": [
    {
     "name": "stdout",
     "output_type": "stream",
     "text": [
      "RMSE:  0.6977882196132263\n",
      "MAE:  0.9033701087151802\n"
     ]
    }
   ],
   "source": [
    "print(\"RMSE: \", accuracy.mae(predictions, verbose=False))\n",
    "print(\"MAE: \", accuracy.rmse(predictions, verbose=False))"
   ]
  },
  {
   "cell_type": "code",
   "execution_count": 8,
   "metadata": {},
   "outputs": [
    {
     "name": "stdout",
     "output_type": "stream",
     "text": [
      "Evaluating RMSE, MAE of algorithm SVD on 5 split(s).\n",
      "\n",
      "                  Fold 1  Fold 2  Fold 3  Fold 4  Fold 5  Mean    Std     \n",
      "RMSE (testset)    0.8905  0.8996  0.8950  0.8920  0.8949  0.8944  0.0031  \n",
      "MAE (testset)     0.6844  0.6922  0.6859  0.6875  0.6893  0.6879  0.0027  \n",
      "Fit time          7.17    6.93    7.13    6.91    7.01    7.03    0.10    \n",
      "Test time         0.18    0.16    0.20    0.21    0.20    0.19    0.02    \n"
     ]
    },
    {
     "data": {
      "text/plain": [
       "{'test_rmse': array([0.89046328, 0.89962238, 0.89495726, 0.89199846, 0.89493878]),\n",
       " 'test_mae': array([0.68436994, 0.69222876, 0.68591999, 0.68754926, 0.68926623]),\n",
       " 'fit_time': (7.167236804962158,\n",
       "  6.9312522411346436,\n",
       "  7.133969068527222,\n",
       "  6.910246133804321,\n",
       "  7.012815952301025),\n",
       " 'test_time': (0.18073201179504395,\n",
       "  0.16397476196289062,\n",
       "  0.20415067672729492,\n",
       "  0.21397876739501953,\n",
       "  0.1979069709777832)}"
      ]
     },
     "execution_count": 8,
     "metadata": {},
     "output_type": "execute_result"
    }
   ],
   "source": [
    "cross_validate(algo, data, measures=['RMSE', 'MAE'], cv=5, verbose=True)"
   ]
  },
  {
   "cell_type": "markdown",
   "metadata": {},
   "source": [
    "The calculations for top N evaluation metrics below have been adapted from Frank Kane's udemy course on building recommender systems. https://www.udemy.com/building-recommender-systems-with-machine-learning-and-ai/"
   ]
  },
  {
   "cell_type": "code",
   "execution_count": 9,
   "metadata": {},
   "outputs": [
    {
     "name": "stdout",
     "output_type": "stream",
     "text": [
      "\n",
      "Evaluating top-10 recommendations...\n"
     ]
    }
   ],
   "source": [
    "print(\"\\nEvaluating top-10 recommendations...\")\n",
    "LOOCV = LeaveOneOut(n_splits=1, random_state=1)"
   ]
  },
  {
   "cell_type": "code",
   "execution_count": 10,
   "metadata": {},
   "outputs": [
    {
     "name": "stdout",
     "output_type": "stream",
     "text": [
      "Computing recommendations with leave-one-out...\n",
      "Predict ratings for left-out set...\n",
      "Predict all missing ratings...\n",
      "Compute top 10 recs per user...\n",
      "\n",
      "Hit Rate:  0.029806259314456036\n",
      "\n",
      "ARHR (Average Reciprocal Hit Rank):  0.0111560570576964\n",
      "\n",
      "cHR (Cumulative Hit Rate, rating >= 4):  0.04960835509138381\n",
      "\n",
      "rHR (Hit Rate by Rating value): \n",
      "3.5 0.017241379310344827\n",
      "4.0 0.0425531914893617\n",
      "4.5 0.020833333333333332\n",
      "5.0 0.06802721088435375\n"
     ]
    }
   ],
   "source": [
    "for trainSet, testSet in LOOCV.split(data):\n",
    "    print(\"Computing recommendations with leave-one-out...\")\n",
    "\n",
    "    # Train model without left-out ratings\n",
    "    algo.fit(trainSet)\n",
    "\n",
    "    # Predicts ratings for left-out ratings only\n",
    "    print(\"Predict ratings for left-out set...\")\n",
    "    leftOutPredictions = algo.test(testSet)\n",
    "\n",
    "    # Build predictions for all ratings not in the training set\n",
    "    print(\"Predict all missing ratings...\")\n",
    "    bigTestSet = trainSet.build_anti_testset()\n",
    "    allPredictions = algo.test(bigTestSet)\n",
    "\n",
    "    # Compute top 10 recs for each user\n",
    "    print(\"Compute top 10 recs per user...\")\n",
    "    topNPredicted = RecommenderMetrics.GetTopN(allPredictions, n=10)\n",
    "\n",
    "    # See how often we recommended a movie the user actually rated\n",
    "    # Number of successful hits from top N / # of users\n",
    "    print(\"\\nHit Rate: \", RecommenderMetrics.HitRate(topNPredicted, leftOutPredictions))\n",
    "\n",
    "    # Compute ARHR\n",
    "    # The higher up in the list the hit is, the better the ARHR (cumulative value of 1/rank over divided by # of users)\n",
    "    print(\"\\nARHR (Average Reciprocal Hit Rank): \", RecommenderMetrics.AverageReciprocalHitRank(topNPredicted, leftOutPredictions))\n",
    "\n",
    "    # See how often we recommended a movie the user actually liked\n",
    "    # Disregard hits that had less than a threshold for rating\n",
    "    print(\"\\ncHR (Cumulative Hit Rate, rating >= 4): \", RecommenderMetrics.CumulativeHitRate(topNPredicted, leftOutPredictions, 4.0))\n",
    "\n",
    "    # Break down hit rate by rating value\n",
    "    print(\"\\nrHR (Hit Rate by Rating value): \")\n",
    "    RecommenderMetrics.RatingHitRate(topNPredicted, leftOutPredictions)"
   ]
  }
 ],
 "metadata": {
  "kernelspec": {
   "display_name": "Python 3",
   "language": "python",
   "name": "python3"
  },
  "language_info": {
   "codemirror_mode": {
    "name": "ipython",
    "version": 3
   },
   "file_extension": ".py",
   "mimetype": "text/x-python",
   "name": "python",
   "nbconvert_exporter": "python",
   "pygments_lexer": "ipython3",
   "version": "3.6.5"
  }
 },
 "nbformat": 4,
 "nbformat_minor": 2
}
