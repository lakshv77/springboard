{
 "cells": [
  {
   "cell_type": "code",
   "execution_count": 1,
   "metadata": {},
   "outputs": [],
   "source": [
    "from surprise import SVD\n",
    "from surprise import Dataset\n",
    "from surprise.model_selection import cross_validate"
   ]
  },
  {
   "cell_type": "code",
   "execution_count": 2,
   "metadata": {
    "scrolled": true
   },
   "outputs": [],
   "source": [
    "data = Dataset.load_builtin('ml-100k')"
   ]
  },
  {
   "cell_type": "code",
   "execution_count": 3,
   "metadata": {},
   "outputs": [],
   "source": [
    "algo = SVD()"
   ]
  },
  {
   "cell_type": "code",
   "execution_count": 4,
   "metadata": {},
   "outputs": [
    {
     "name": "stdout",
     "output_type": "stream",
     "text": [
      "Evaluating RMSE, MAE of algorithm SVD on 5 split(s).\n",
      "\n",
      "                  Fold 1  Fold 2  Fold 3  Fold 4  Fold 5  Mean    Std     \n",
      "RMSE (testset)    0.9356  0.9343  0.9317  0.9390  0.9383  0.9358  0.0027  \n",
      "MAE (testset)     0.7359  0.7378  0.7339  0.7412  0.7394  0.7376  0.0026  \n",
      "Fit time          9.06    8.92    8.87    8.22    8.16    8.65    0.38    \n",
      "Test time         0.39    0.26    0.17    0.19    0.17    0.23    0.08    \n"
     ]
    },
    {
     "data": {
      "text/plain": [
       "{'test_rmse': array([0.93555274, 0.93432225, 0.9317181 , 0.93900772, 0.93832614]),\n",
       " 'test_mae': array([0.73592905, 0.73780138, 0.73387413, 0.74118013, 0.73942153]),\n",
       " 'fit_time': (9.058438062667847,\n",
       "  8.92204475402832,\n",
       "  8.8680739402771,\n",
       "  8.215454816818237,\n",
       "  8.162052869796753),\n",
       " 'test_time': (0.38936495780944824,\n",
       "  0.259382963180542,\n",
       "  0.17083120346069336,\n",
       "  0.18642687797546387,\n",
       "  0.1682438850402832)}"
      ]
     },
     "execution_count": 4,
     "metadata": {},
     "output_type": "execute_result"
    }
   ],
   "source": [
    "cross_validate(algo, data, measures=['RMSE', 'MAE'], cv=5, verbose=True)"
   ]
  },
  {
   "cell_type": "code",
   "execution_count": null,
   "metadata": {},
   "outputs": [],
   "source": []
  }
 ],
 "metadata": {
  "kernelspec": {
   "display_name": "Python 3",
   "language": "python",
   "name": "python3"
  },
  "language_info": {
   "codemirror_mode": {
    "name": "ipython",
    "version": 3
   },
   "file_extension": ".py",
   "mimetype": "text/x-python",
   "name": "python",
   "nbconvert_exporter": "python",
   "pygments_lexer": "ipython3",
   "version": "3.6.5"
  }
 },
 "nbformat": 4,
 "nbformat_minor": 2
}
